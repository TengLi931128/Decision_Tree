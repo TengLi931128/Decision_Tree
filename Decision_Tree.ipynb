{
 "cells": [
  {
   "cell_type": "code",
   "execution_count": 1,
   "metadata": {},
   "outputs": [
    {
     "data": {
      "text/plain": [
       "'\\nDecision Tree\\nLi Teng\\n27.03.2020\\n'"
      ]
     },
     "execution_count": 1,
     "metadata": {},
     "output_type": "execute_result"
    }
   ],
   "source": [
    "'''\n",
    "Decision Tree (ID3)\n",
    "Li Teng\n",
    "27.03.2020\n",
    "'''"
   ]
  },
  {
   "cell_type": "code",
   "execution_count": 15,
   "metadata": {},
   "outputs": [
    {
     "name": "stdout",
     "output_type": "stream",
     "text": [
      "[5. 5. 5. ... 6. 5. 6.]\n"
     ]
    },
    {
     "name": "stderr",
     "output_type": "stream",
     "text": [
      "/home/teng/anaconda3/lib/python3.7/site-packages/ipykernel_launcher.py:6: FutureWarning: Method .as_matrix will be removed in a future version. Use .values instead.\n",
      "  \n"
     ]
    }
   ],
   "source": [
    "import pandas as pd\n",
    "import numpy as np\n",
    "\n",
    "#Data preprocessing \n",
    "data = pd.read_csv('/home/teng/Github/Decision_Tree/winequality-red.csv')\n",
    "data = data.as_matrix(columns=None)\n",
    "np.random.shuffle(data)\n",
    "Training_Set, Test_Set = data[:1200,:], data[1200:,:]\n",
    "print(Training_Set[:,11])"
   ]
  },
  {
   "cell_type": "code",
   "execution_count": null,
   "metadata": {},
   "outputs": [],
   "source": [
    "def get_Entropy(Data):\n",
    "    #comput the entropy of the data\n",
    "    return Entropy\n",
    "\n",
    "def get_Gain(Data,Feature):\n",
    "    #comput Gain\n",
    "    return Gain\n",
    "\n",
    "def get_best_feature(Data):\n",
    "    #find the best feature according to the Gain\n",
    "    return Feature\n",
    "\n",
    "def \n"
   ]
  }
 ],
 "metadata": {
  "kernelspec": {
   "display_name": "Python 3",
   "language": "python",
   "name": "python3"
  },
  "language_info": {
   "codemirror_mode": {
    "name": "ipython",
    "version": 3
   },
   "file_extension": ".py",
   "mimetype": "text/x-python",
   "name": "python",
   "nbconvert_exporter": "python",
   "pygments_lexer": "ipython3",
   "version": "3.7.4"
  }
 },
 "nbformat": 4,
 "nbformat_minor": 2
}
