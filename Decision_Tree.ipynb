{
 "cells": [
  {
   "cell_type": "code",
   "execution_count": 35,
   "metadata": {},
   "outputs": [
    {
     "data": {
      "text/plain": [
       "'\\nDecision Tree \\nLi Teng\\n27.03.2020\\n'"
      ]
     },
     "execution_count": 35,
     "metadata": {},
     "output_type": "execute_result"
    }
   ],
   "source": [
    "'''\n",
    "Decision Tree \n",
    "Li Teng\n",
    "27.03.2020\n",
    "'''"
   ]
  },
  {
   "cell_type": "code",
   "execution_count": 70,
   "metadata": {},
   "outputs": [],
   "source": [
    "import pandas as pd\n",
    "import numpy as np\n",
    "import math\n",
    "\n",
    "def get_true_label(arr):\n",
    "    #quality >= 6 as good(1)\n",
    "    arr = np.sign(arr-5.5)\n",
    "    return arr\n",
    "\n",
    "def get_Entropy(Data):\n",
    "    #comput the entropy of the data\n",
    "    positive = 0\n",
    "    negative = 0\n",
    "    for d in Data:\n",
    "        if d[11] == 1:\n",
    "            positive += 1\n",
    "        else:\n",
    "            negative += 1\n",
    "    positive_prob = positive/(positive+negative)\n",
    "    negative_prob = negative/(positive+negative)\n",
    "    if positive_prob == 1 or 0:\n",
    "        Entropy = 0\n",
    "    else:\n",
    "        Entropy = -(positive_prob*math.log(positive_prob,2) + negative_prob*math.log(negative_prob,2))\n",
    "    return Entropy\n",
    "\n",
    "def find_Split_values(Data,Feature):\n",
    "    #find all split values of the given Feature\n",
    "    All_values = list(set(Data[:,Feature]))\n",
    "    All_values.sort()\n",
    "    All_Split_values = []\n",
    "    for index in range(len(All_values)-1):\n",
    "        print(All_values[index],All_values[index+1])\n",
    "        All_Split_values.append((All_values[index]+All_values[index+1])/2)\n",
    "    return All_Split_values\n",
    "\n",
    "def split_data(Data,Feature,Split_value):\n",
    "    #split data into 2 subdatas\n",
    "    lenth = 0\n",
    "    for d in Data:\n",
    "        if d[Feature] < Split_value:\n",
    "            lenth+=1\n",
    "        else:\n",
    "            break            \n",
    "    SubData1 = Data[:lenth,:]\n",
    "    SubData2 = Data[lenth:,:]\n",
    "    return SubData1, SubData2\n",
    "    \n",
    "\n",
    "def find_best_Split_values(Data,Feature,All_Split_values):\n",
    "    #find best split values of the given Feature from All_split_values\n",
    "    data = data[data[:,Feature].argsort()]\n",
    "    #for value in All_Split_values:\n",
    "        \n",
    "\n",
    "\n",
    "def get_Gain(Data,Feature,Split_value):\n",
    "    #comput Gain\n",
    "    Gain = 0\n",
    "    return Gain\n",
    "\n",
    "def get_best_feature(Data):\n",
    "    #find the best feature according to the Gain\n",
    "    return Feature\n",
    "\n"
   ]
  },
  {
   "cell_type": "code",
   "execution_count": 45,
   "metadata": {},
   "outputs": [
    {
     "name": "stderr",
     "output_type": "stream",
     "text": [
      "/home/teng/anaconda3/lib/python3.7/site-packages/ipykernel_launcher.py:3: FutureWarning: Method .as_matrix will be removed in a future version. Use .values instead.\n",
      "  This is separate from the ipykernel package so we can avoid doing imports until\n"
     ]
    }
   ],
   "source": [
    "#Data preprocessing \n",
    "data = pd.read_csv('/home/teng/Github/Decision_Tree/winequality-red.csv')\n",
    "data = data.as_matrix(columns=None)\n",
    "np.random.shuffle(data)\n",
    "Training_Set, Test_Set = data[:400,:], data[1499:,:]\n",
    "#Col 0-10 are Features and Col 11 is label.\n",
    "Training_Set[:,11] = get_true_label(Training_Set[:,11])\n",
    "Test_Set[:,11] = get_true_label(Test_Set[:,11])\n",
    "\n"
   ]
  },
  {
   "cell_type": "code",
   "execution_count": 73,
   "metadata": {},
   "outputs": [
    {
     "name": "stdout",
     "output_type": "stream",
     "text": [
      "d1: [[2 2 1 2]\n",
      " [4 1 8 5]]\n",
      "d2: [[6 3 1 1]]\n"
     ]
    }
   ],
   "source": [
    "data = np.array([[6, 3, 1, 1], [2, 2, 1, 2],[4, 1, 8, 5]])\n",
    "data = data[data[:,0].argsort()]\n",
    "d1, d2 = split_data(data,0,5)\n",
    "print('d1:',d1)\n",
    "print('d2:',d2)"
   ]
  },
  {
   "cell_type": "code",
   "execution_count": null,
   "metadata": {},
   "outputs": [],
   "source": []
  }
 ],
 "metadata": {
  "kernelspec": {
   "display_name": "Python 3",
   "language": "python",
   "name": "python3"
  },
  "language_info": {
   "codemirror_mode": {
    "name": "ipython",
    "version": 3
   },
   "file_extension": ".py",
   "mimetype": "text/x-python",
   "name": "python",
   "nbconvert_exporter": "python",
   "pygments_lexer": "ipython3",
   "version": "3.7.4"
  }
 },
 "nbformat": 4,
 "nbformat_minor": 2
}
